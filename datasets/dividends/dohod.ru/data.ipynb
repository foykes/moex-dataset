{
 "cells": [
  {
   "cell_type": "code",
   "execution_count": null,
   "metadata": {},
   "outputs": [],
   "source": [
    "import requests\n",
    "import pandas as pd\n",
    "from bs4 import BeautifulSoup\n",
    "\n",
    "df_overview_full = pd.DataFrame()\n",
    "df_years_full = pd.DataFrame()\n",
    "df_each_full = pd.DataFrame()"
   ]
  },
  {
   "cell_type": "code",
   "execution_count": null,
   "metadata": {},
   "outputs": [],
   "source": [
    "### Составление общего списка\n",
    "url = 'https://www.dohod.ru/ik/analytics/dividend'\n",
    "html = requests.get(url).content\n",
    "df_list = pd.read_html(html)\n",
    "df_mainpage = df_list[-1]"
   ]
  },
  {
   "cell_type": "code",
   "execution_count": null,
   "metadata": {},
   "outputs": [],
   "source": [
    "bad_columns = []\n",
    "for i in list(df_mainpage.columns):\n",
    "    if \"Unnamed:\" in i:\n",
    "        bad_columns.append(i)\n",
    "\n",
    "# print(bad_columns)\n",
    "df_mainpage.drop(columns=bad_columns, inplace=True)"
   ]
  },
  {
   "cell_type": "code",
   "execution_count": null,
   "metadata": {},
   "outputs": [],
   "source": [
    "# len(df_mainpage)\n",
    "df_mainpage.to_excel('obzor_vsex_divs_tickerov.xlsx')"
   ]
  },
  {
   "cell_type": "code",
   "execution_count": null,
   "metadata": {},
   "outputs": [],
   "source": [
    "### Сбор всех ссылок на страницы\n",
    "page = requests.get(url)\n",
    "soup = BeautifulSoup(page.text, 'lxml')\n",
    "\n",
    "data = []\n",
    "\n",
    "for link in soup.find_all('a', href=True):\n",
    "    data.append(str(link.get('href')))\n",
    "\n",
    "\n",
    "data = list(set(data))\n",
    "\n",
    "url_list = []\n",
    "\n",
    "for i in data:\n",
    "    if \"/ik/analytics/dividend/\" in i and \".pdf\" not in i:\n",
    "        url = \"https://www.dohod.ru/\" + i\n",
    "        url_list.append(url)"
   ]
  },
  {
   "cell_type": "code",
   "execution_count": null,
   "metadata": {},
   "outputs": [],
   "source": [
    "print(\"Количество страниц для обхода: {}\".format(len(url_list)))"
   ]
  },
  {
   "cell_type": "code",
   "execution_count": null,
   "metadata": {},
   "outputs": [],
   "source": [
    "b = []\n",
    "for url in url_list:\n",
    "    html = requests.get(url).content\n",
    "    try:\n",
    "        df_list = pd.read_html(html)\n",
    "    except:\n",
    "        df_list = pd.DataFrame()\n",
    "        print('Не смог найти таблицы на этой странице: {}',format(url))\n",
    "\n",
    "    a = len(df_list)\n",
    "    b.append(a)\n",
    "\n",
    "    if len(df_list) == 2:\n",
    "        df = df_list[0]\n",
    "        df.columns = df.iloc[1]\n",
    "        df.reset_index(inplace=True)\n",
    "        df = df.drop (index= 1)\n",
    "        df = df[['текущая доходность','доля от прибыли','индекс DSI']]\n",
    "        df['page_url'] = url\n",
    "        df['ticker'] = url.split(r'/')[-1].upper()\n",
    "        df_overview_full = pd.concat([df_overview_full,df])\n",
    "\n",
    "        df = df_list[1]\n",
    "        df['page_url'] = url\n",
    "        df['ticker'] = url.split(r'/')[-1].upper()\n",
    "        df_years_full = pd.concat([df_years_full,df])\n",
    "\n",
    "    elif len(df_list) == 3:\n",
    "        df = df_list[0]\n",
    "        df.columns = df.iloc[1]\n",
    "        df.reset_index(inplace=True)\n",
    "        df = df.drop (index= 1)\n",
    "        df = df[['текущая доходность','доля от прибыли','индекс DSI']]\n",
    "        df['page_url'] = url\n",
    "        df['ticker'] = url.split(r'/')[-1].upper()\n",
    "        df_overview_full = pd.concat([df_overview_full,df])\n",
    "\n",
    "        df = df_list[1]\n",
    "        df['page_url'] = url\n",
    "        df['ticker'] = url.split(r'/')[-1].upper()\n",
    "        df_years_full = pd.concat([df_years_full,df])\n",
    "\n",
    "        df = df_list[2]\n",
    "        df['page_url'] = url\n",
    "        df['ticker'] = url.split(r'/')[-1].upper()\n",
    "        df_each_full = pd.concat([df_each_full,df])\n"
   ]
  },
  {
   "cell_type": "code",
   "execution_count": null,
   "metadata": {},
   "outputs": [],
   "source": [
    "## Статистика для отладки. Сколько разных табличек спарсено\n",
    "o = list(set(b))\n",
    "\n",
    "for i in o:\n",
    "    print(i)\n",
    "    print(b.count(i))\n",
    "    print(\"___\")"
   ]
  },
  {
   "cell_type": "code",
   "execution_count": null,
   "metadata": {},
   "outputs": [],
   "source": [
    "df_overview_full.to_excel('rate_for_each_ticker.xlsx')\n",
    "df_years_full.to_excel('sum_each_year_divs.xlsx')\n",
    "df_each_full.to_excel('all_payments.xlsx')"
   ]
  }
 ],
 "metadata": {
  "kernelspec": {
   "display_name": "base",
   "language": "python",
   "name": "python3"
  },
  "language_info": {
   "codemirror_mode": {
    "name": "ipython",
    "version": 3
   },
   "file_extension": ".py",
   "mimetype": "text/x-python",
   "name": "python",
   "nbconvert_exporter": "python",
   "pygments_lexer": "ipython3",
   "version": "3.10.13"
  }
 },
 "nbformat": 4,
 "nbformat_minor": 2
}
