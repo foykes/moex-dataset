{
 "cells": [
  {
   "cell_type": "code",
   "execution_count": null,
   "metadata": {},
   "outputs": [],
   "source": [
    "import talib, pandas as pd\n",
    "import os\n",
    "from os import listdir\n",
    "from os.path import isfile, join\n",
    "\n",
    "current_path = os.getcwd()"
   ]
  },
  {
   "cell_type": "code",
   "execution_count": null,
   "metadata": {},
   "outputs": [],
   "source": [
    "def RSI14(filename):\n",
    "    path = current_path + \"/datasets/\" + filename\n",
    "    RSI_full = pd.DataFrame()\n",
    "\n",
    "    df = pd.read_excel(path)\n",
    "    ticker_list = df['ticker'].to_list()\n",
    "    ticker_list = list(set(ticker_list))\n",
    "\n",
    "    for i in range(0,len(ticker_list)):\n",
    "        ticker = ticker_list[i]\n",
    "        df_ticker = df[(df['ticker'] == ticker)]\n",
    "        RSI_ticker = talib.RSI(df_ticker[\"close\"], timeperiod=14)\n",
    "        if len(RSI_ticker) > 0: RSI_full = pd.concat([RSI_full,RSI_ticker])\n",
    "\n",
    "    RSI_full = RSI_full.rename(columns= {0: 'RSI14'})\n",
    "    df = df.join(RSI_full)\n",
    "\n",
    "    if len(df) > 0: df.to_excel(path,index = False)\n",
    "    if len(df) > 0: df.to_csv(path,index = False)"
   ]
  },
  {
   "cell_type": "code",
   "execution_count": null,
   "metadata": {},
   "outputs": [],
   "source": [
    "#getting datasets\n",
    "datasets_list = [f for f in listdir('datasets') if isfile(join('datasets', f))]\n",
    "\n",
    "datasets_list = [x for x in datasets_list if not x.endswith('.csv')]\n",
    "\n",
    "datasets_list = list(set(datasets_list))"
   ]
  },
  {
   "cell_type": "code",
   "execution_count": null,
   "metadata": {},
   "outputs": [],
   "source": [
    "for file in datasets_list:\n",
    "    RSI14(file)"
   ]
  }
 ],
 "metadata": {
  "kernelspec": {
   "display_name": "base",
   "language": "python",
   "name": "python3"
  },
  "language_info": {
   "codemirror_mode": {
    "name": "ipython",
    "version": 3
   },
   "file_extension": ".py",
   "mimetype": "text/x-python",
   "name": "python",
   "nbconvert_exporter": "python",
   "pygments_lexer": "ipython3",
   "version": "3.10.13"
  }
 },
 "nbformat": 4,
 "nbformat_minor": 2
}
