{
 "cells": [
  {
   "cell_type": "code",
   "execution_count": 4,
   "metadata": {},
   "outputs": [],
   "source": [
    "import talib, pandas as pd\n",
    "import sys\n",
    "from os import listdir\n",
    "from os.path import isfile, join\n",
    "\n",
    "current_path = sys.path[0]"
   ]
  },
  {
   "cell_type": "code",
   "execution_count": 5,
   "metadata": {},
   "outputs": [],
   "source": [
    "def RSI14(filename):\n",
    "    path = current_path + \"/datasets/\" + filename\n",
    "    RSI_full = pd.DataFrame()\n",
    "\n",
    "    if path.endswith('csv') and \"~$\" not in path:\n",
    "        df = pd.read_csv(path)\n",
    "    elif path.endswith('xlsx') and \"~$\" not in path:\n",
    "        df = pd.read_excel(path)\n",
    "\n",
    "    # Проверка наличия колонки RSI в df. Убрирает в случае наличия. Необходимо для пересчёта RSI без перевыгрузки данных\n",
    "    if 'RSI14' in df.columns: df.drop('RSI14', axis=1, inplace=True)\n",
    "\n",
    "    ticker_list = df['ticker'].to_list()\n",
    "    ticker_list = list(set(ticker_list))\n",
    "\n",
    "    for i in range(0,len(ticker_list)):\n",
    "        ticker = ticker_list[i]\n",
    "        df_ticker = df[(df['ticker'] == ticker)]\n",
    "        RSI_ticker = talib.RSI(df_ticker[\"close\"], timeperiod=14)\n",
    "        if len(RSI_ticker) > 0: RSI_full = pd.concat([RSI_full,RSI_ticker])\n",
    "\n",
    "    RSI_full = RSI_full.rename(columns= {0: 'RSI14'})\n",
    "    df = df.join(RSI_full)\n",
    "\n",
    "    if path.endswith('csv'):\n",
    "        if len(df) > 0: df.to_csv(path,index = False)\n",
    "    elif path.endswith('xlsx'):\n",
    "        if len(df) > 0: df.to_excel(path,index = False)"
   ]
  },
  {
   "cell_type": "code",
   "execution_count": 6,
   "metadata": {},
   "outputs": [],
   "source": [
    "#getting datasets\n",
    "datasets_list = [f for f in listdir(current_path + '/datasets') if isfile(join(current_path + '/datasets', f))]\n",
    "\n",
    "# datasets_list = [x for x in datasets_list if not x.endswith('.csv')]\n",
    "\n",
    "datasets_list = list(set(datasets_list))"
   ]
  },
  {
   "cell_type": "code",
   "execution_count": 7,
   "metadata": {},
   "outputs": [],
   "source": [
    "for file in datasets_list:\n",
    "    if (file.endswith('csv') and \"~$\" not in file) or (file.endswith('xlsx') and \"~$\" not in file):\n",
    "        try:\n",
    "            RSI14(file)\n",
    "        except Exception as e:\n",
    "            print (e)\n",
    "            print(file)\n",
    "            print('------------------------')"
   ]
  }
 ],
 "metadata": {
  "kernelspec": {
   "display_name": "base",
   "language": "python",
   "name": "python3"
  },
  "language_info": {
   "codemirror_mode": {
    "name": "ipython",
    "version": 3
   },
   "file_extension": ".py",
   "mimetype": "text/x-python",
   "name": "python",
   "nbconvert_exporter": "python",
   "pygments_lexer": "ipython3",
   "version": "3.10.13"
  }
 },
 "nbformat": 4,
 "nbformat_minor": 2
}
