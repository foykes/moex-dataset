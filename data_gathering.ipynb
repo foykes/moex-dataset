{
 "cells": [
  {
   "cell_type": "code",
   "execution_count": 1,
   "metadata": {},
   "outputs": [],
   "source": [
    "import datetime, pygsheets, pandas as pd\n",
    "\n",
    "\n",
    "files_links_prefix = \"C:/Users/foyke/iCloudDrive/Python/xyz/RSI\"\n",
    "\n",
    "#token to get access to google doc\n",
    "service_account_json = files_links_prefix + '/python-304621-1e403209f05f.json'\n",
    "gc = pygsheets.authorize(service_file=service_account_json)\n",
    "\n",
    "\n",
    "today = datetime.datetime.now()\n",
    "df_full = pd.DataFrame()\n",
    "exception_list = []\n"
   ]
  },
  {
   "cell_type": "code",
   "execution_count": 2,
   "metadata": {},
   "outputs": [],
   "source": [
    "#preparing list of all tickers to check\n",
    "url = \"https://docs.google.com/spreadsheets/d/1EBhcvotX9D5McF-9HHjf4hVkisyesCdLB2mgfeEX_mY/edit?usp=sharing\"\n",
    "gc = pygsheets.authorize(service_file=service_account_json)\n",
    "sh = gc.open_by_url(url)\n",
    "wks = sh[3]\n",
    "all_stocks = pd.DataFrame(wks.get_all_records())"
   ]
  },
  {
   "cell_type": "code",
   "execution_count": 3,
   "metadata": {},
   "outputs": [
    {
     "name": "stdout",
     "output_type": "stream",
     "text": [
      "244\n"
     ]
    }
   ],
   "source": [
    "## Оставляем только Российские тикеры\n",
    "all_stocks_ru = all_stocks.loc[all_stocks['GEO'] == 'russia']\n",
    "print(len(all_stocks_ru))"
   ]
  },
  {
   "cell_type": "code",
   "execution_count": 4,
   "metadata": {},
   "outputs": [],
   "source": [
    "#готовим даты\n",
    "end_date = datetime.datetime.now()\n",
    "d = datetime.timedelta(days = 365*10)\n",
    "start_date = end_date - d\n",
    "\n",
    "\n",
    "#спец формат даты для MOEX\n",
    "start_date_mx = start_date.strftime('%Y-%m-%d')\n",
    "end_date_mx = end_date.strftime('%Y-%m-%d')\n"
   ]
  },
  {
   "cell_type": "code",
   "execution_count": 6,
   "metadata": {},
   "outputs": [],
   "source": [
    "## Функция выгрузки данных через ручку MOEX\n",
    "def moex (ticker_in, start_date_mx, end_date_mx, interval):\n",
    "\n",
    "    df = pd.DataFrame()\n",
    "    global exception_list\n",
    "\n",
    "    try:\n",
    "        query = f'http://iss.moex.com/iss/engines/stock/markets/shares/securities/{ticker_in}/candles.csv?from={start_date_mx}&till={end_date_mx}&interval={interval}'\n",
    "        df = pd.read_csv(query, sep=';', header=1)\n",
    "\n",
    "        # df.rename(columns={'End': 'Date'}, inplace=True) #переименовка колонки, чтобы было всё в одном формате\n",
    "        df['ticker'] = ticker_in\n",
    "        # df = df.set_index('Date')\n",
    "    except:\n",
    "        exception_list.append(ticker_in)\n",
    "\n",
    "    return df"
   ]
  },
  {
   "cell_type": "markdown",
   "metadata": {},
   "source": [
    "Данные за 10 лет с интервалом 1 день"
   ]
  },
  {
   "cell_type": "code",
   "execution_count": 7,
   "metadata": {},
   "outputs": [
    {
     "name": "stdout",
     "output_type": "stream",
     "text": [
      "115491\n"
     ]
    }
   ],
   "source": [
    "interval = 24\n",
    "\n",
    "df_full = pd.DataFrame()\n",
    "\n",
    "for i in range(0,len(all_stocks_ru)):\n",
    "    ticker_in = all_stocks_ru['Ticker'][i]\n",
    "    df = moex (ticker_in, start_date_mx, end_date_mx, interval)\n",
    "    if len(df) > 0: df_full = pd.concat([df_full,df])\n",
    "\n",
    "\n",
    "print(len(df_full))\n",
    "\n",
    "df_full.to_excel('datasets/10years_data_1d_interval.xlsx',index = False)\n",
    "\n",
    "    "
   ]
  },
  {
   "cell_type": "markdown",
   "metadata": {},
   "source": [
    "Данные за 10 лет с интервалом 1 час\n"
   ]
  },
  {
   "cell_type": "code",
   "execution_count": 8,
   "metadata": {},
   "outputs": [
    {
     "name": "stdout",
     "output_type": "stream",
     "text": [
      "120362\n"
     ]
    }
   ],
   "source": [
    "interval = 60\n",
    "\n",
    "df_full = pd.DataFrame()\n",
    "\n",
    "for i in range(0,len(all_stocks_ru)):\n",
    "    ticker_in = all_stocks_ru['Ticker'][i]\n",
    "    df = moex (ticker_in, start_date_mx, end_date_mx, interval)\n",
    "    if len(df) > 0: df_full = pd.concat([df_full,df])\n",
    "\n",
    "\n",
    "\n",
    "print(len(df_full))\n",
    "\n",
    "df_full.to_excel('datasets/10years_data_1h_interval.xlsx',index = False)\n",
    "\n",
    "    "
   ]
  },
  {
   "cell_type": "markdown",
   "metadata": {},
   "source": [
    "Данные за 10 лет с интервалом 10 минут"
   ]
  },
  {
   "cell_type": "code",
   "execution_count": 9,
   "metadata": {},
   "outputs": [
    {
     "name": "stdout",
     "output_type": "stream",
     "text": [
      "120512\n"
     ]
    }
   ],
   "source": [
    "interval = 10\n",
    "\n",
    "df_full = pd.DataFrame()\n",
    "\n",
    "for i in range(0,len(all_stocks_ru)):\n",
    "    ticker_in = all_stocks_ru['Ticker'][i]\n",
    "    df = moex (ticker_in, start_date_mx, end_date_mx, interval)\n",
    "    if len(df) > 0: df_full = pd.concat([df_full,df])\n",
    "\n",
    "\n",
    "\n",
    "print(len(df_full))\n",
    "df_full.to_excel('datasets/10years_data_10m_interval.xlsx',index = False)\n",
    "\n",
    "    "
   ]
  },
  {
   "cell_type": "markdown",
   "metadata": {},
   "source": [
    "Данные за 10 лет с интервалом 1 минута"
   ]
  },
  {
   "cell_type": "code",
   "execution_count": 10,
   "metadata": {},
   "outputs": [
    {
     "name": "stdout",
     "output_type": "stream",
     "text": [
      "119012\n"
     ]
    }
   ],
   "source": [
    "interval = 1\n",
    "\n",
    "df_full = pd.DataFrame()\n",
    "\n",
    "for i in range(0,len(all_stocks_ru)):\n",
    "    ticker_in = all_stocks_ru['Ticker'][i]\n",
    "    df = moex (ticker_in, start_date_mx, end_date_mx, interval)\n",
    "    if len(df) > 0: df_full = pd.concat([df_full,df])\n",
    "\n",
    "\n",
    "\n",
    "print(len(df_full))\n",
    "df_full.to_excel('datasets/10years_data_1m_interval.xlsx',index = False)"
   ]
  },
  {
   "cell_type": "code",
   "execution_count": 11,
   "metadata": {},
   "outputs": [],
   "source": [
    "#готовим даты для выгрузки за 30 лет\n",
    "end_date = datetime.datetime.now()\n",
    "d = datetime.timedelta(days = 365*30)\n",
    "start_date = end_date - d\n",
    "\n",
    "\n",
    "#спец формат даты для MOEX\n",
    "start_date_mx = start_date.strftime('%Y-%m-%d')\n",
    "end_date_mx = end_date.strftime('%Y-%m-%d')\n"
   ]
  },
  {
   "cell_type": "markdown",
   "metadata": {},
   "source": [
    "Данные за 30 лет с интервалом 1 день\n"
   ]
  },
  {
   "cell_type": "code",
   "execution_count": 12,
   "metadata": {},
   "outputs": [
    {
     "name": "stdout",
     "output_type": "stream",
     "text": [
      "115537\n"
     ]
    }
   ],
   "source": [
    "interval = 24\n",
    "\n",
    "df_full = pd.DataFrame()\n",
    "\n",
    "for i in range(0,len(all_stocks_ru)):\n",
    "    ticker_in = all_stocks_ru['Ticker'][i]\n",
    "    df = moex (ticker_in, start_date_mx, end_date_mx, interval)\n",
    "    if len(df) > 0: df_full = pd.concat([df_full,df])\n",
    "\n",
    "\n",
    "\n",
    "print(len(df_full))\n",
    "df_full.to_excel('datasets/30years_data_1d_interval.xlsx',index = False)\n",
    "\n",
    "    "
   ]
  },
  {
   "cell_type": "markdown",
   "metadata": {},
   "source": [
    "Данные за 30 лет с интервалом 1 час\n"
   ]
  },
  {
   "cell_type": "code",
   "execution_count": 13,
   "metadata": {},
   "outputs": [
    {
     "name": "stdout",
     "output_type": "stream",
     "text": [
      "120409\n"
     ]
    }
   ],
   "source": [
    "interval = 60\n",
    "\n",
    "df_full = pd.DataFrame()\n",
    "\n",
    "for i in range(0,len(all_stocks_ru)):\n",
    "    ticker_in = all_stocks_ru['Ticker'][i]\n",
    "    df = moex (ticker_in, start_date_mx, end_date_mx, interval)\n",
    "    if len(df) > 0: df_full = pd.concat([df_full,df])\n",
    "\n",
    "\n",
    "\n",
    "print(len(df_full))\n",
    "df_full.to_excel('datasets/30years_data_1h_interval.xlsx',index = False)\n",
    "\n",
    "    "
   ]
  },
  {
   "cell_type": "markdown",
   "metadata": {},
   "source": [
    "Данные за 30 лет с интервалом 10 минут"
   ]
  },
  {
   "cell_type": "code",
   "execution_count": 14,
   "metadata": {},
   "outputs": [
    {
     "name": "stdout",
     "output_type": "stream",
     "text": [
      "120557\n"
     ]
    }
   ],
   "source": [
    "interval = 10\n",
    "\n",
    "df_full = pd.DataFrame()\n",
    "\n",
    "for i in range(0,len(all_stocks_ru)):\n",
    "    ticker_in = all_stocks_ru['Ticker'][i]\n",
    "    df = moex (ticker_in, start_date_mx, end_date_mx, interval)\n",
    "    if len(df) > 0: df_full = pd.concat([df_full,df])\n",
    "\n",
    "\n",
    "\n",
    "print(len(df_full))\n",
    "df_full.to_excel('datasets/30years_data_10m_interval.xlsx',index = False)\n",
    "\n",
    "    "
   ]
  },
  {
   "cell_type": "markdown",
   "metadata": {},
   "source": [
    "Данные за 30 лет с интервалом 1 минута"
   ]
  },
  {
   "cell_type": "code",
   "execution_count": 15,
   "metadata": {},
   "outputs": [
    {
     "name": "stdout",
     "output_type": "stream",
     "text": [
      "117058\n"
     ]
    }
   ],
   "source": [
    "interval = 1\n",
    "\n",
    "df_full = pd.DataFrame()\n",
    "\n",
    "for i in range(0,len(all_stocks_ru)):\n",
    "    ticker_in = all_stocks_ru['Ticker'][i]\n",
    "    df = moex (ticker_in, start_date_mx, end_date_mx, interval)\n",
    "    if len(df) > 0: df_full = pd.concat([df_full,df])\n",
    "\n",
    "\n",
    "print(len(df_full))\n",
    "df_full.to_excel('datasets/30years_data_1m_interval.xlsx',index = False)"
   ]
  },
  {
   "cell_type": "code",
   "execution_count": 18,
   "metadata": {},
   "outputs": [
    {
     "data": {
      "text/plain": [
       "7"
      ]
     },
     "execution_count": 18,
     "metadata": {},
     "output_type": "execute_result"
    }
   ],
   "source": [
    "exception_list = list(set(exception_list)) #дедупликация\n",
    "print(len(exception_list))"
   ]
  }
 ],
 "metadata": {
  "kernelspec": {
   "display_name": "base",
   "language": "python",
   "name": "python3"
  },
  "language_info": {
   "codemirror_mode": {
    "name": "ipython",
    "version": 3
   },
   "file_extension": ".py",
   "mimetype": "text/x-python",
   "name": "python",
   "nbconvert_exporter": "python",
   "pygments_lexer": "ipython3",
   "version": "3.10.13"
  }
 },
 "nbformat": 4,
 "nbformat_minor": 2
}
