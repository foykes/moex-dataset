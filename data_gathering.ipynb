{
 "cells": [
  {
   "cell_type": "code",
   "execution_count": 1,
   "metadata": {},
   "outputs": [],
   "source": [
    "import datetime, pygsheets, pandas as pd\n",
    "\n",
    "\n",
    "files_links_prefix = \"C:/Users/foyke/iCloudDrive/Python/xyz/RSI\"\n",
    "\n",
    "#token to get access to google doc\n",
    "service_account_json = files_links_prefix + '/python-304621-1e403209f05f.json'\n",
    "gc = pygsheets.authorize(service_file=service_account_json)\n",
    "\n",
    "\n",
    "today = datetime.datetime.now()\n",
    "recap_type = ''\n"
   ]
  },
  {
   "cell_type": "code",
   "execution_count": 2,
   "metadata": {},
   "outputs": [],
   "source": [
    "#preparing list of all tickers to check\n",
    "url = \"https://docs.google.com/spreadsheets/d/1EBhcvotX9D5McF-9HHjf4hVkisyesCdLB2mgfeEX_mY/edit?usp=sharing\"\n",
    "gc = pygsheets.authorize(service_file=service_account_json)\n",
    "sh = gc.open_by_url(url)\n",
    "wks = sh[3]\n",
    "all_stocks = pd.DataFrame(wks.get_all_records())"
   ]
  },
  {
   "cell_type": "code",
   "execution_count": 3,
   "metadata": {},
   "outputs": [
    {
     "name": "stdout",
     "output_type": "stream",
     "text": [
      "244\n"
     ]
    }
   ],
   "source": [
    "all_stocks_ru = all_stocks.loc[all_stocks['GEO'] == 'russia']\n",
    "print(len(all_stocks_ru))\n",
    "# print(all_stocks_ru.head(5))"
   ]
  },
  {
   "cell_type": "code",
   "execution_count": 4,
   "metadata": {},
   "outputs": [],
   "source": [
    "#готовим даты\n",
    "end_date = datetime.datetime.now()\n",
    "d = datetime.timedelta(days = 365*10)\n",
    "start_date = end_date - d\n",
    "\n",
    "\n",
    "#спец формат даты для MOEX\n",
    "start_date_mx = start_date.strftime('%Y-%m-%d')\n",
    "end_date_mx = end_date.strftime('%Y-%m-%d')\n"
   ]
  },
  {
   "cell_type": "code",
   "execution_count": 5,
   "metadata": {},
   "outputs": [],
   "source": [
    "df_full = pd.DataFrame()\n",
    "exception_list = []"
   ]
  },
  {
   "cell_type": "markdown",
   "metadata": {},
   "source": [
    "Данные за 10 лет с интервалом 1 день"
   ]
  },
  {
   "cell_type": "code",
   "execution_count": 6,
   "metadata": {},
   "outputs": [
    {
     "name": "stdout",
     "output_type": "stream",
     "text": [
      "115463\n",
      "0\n"
     ]
    }
   ],
   "source": [
    "interval = 24\n",
    "\n",
    "df_full = pd.DataFrame()\n",
    "exception_list = []\n",
    "\n",
    "for i in range(0,len(all_stocks_ru)):\n",
    "# for i in range(0,10):\n",
    "    ticker_in = all_stocks_ru['Ticker'][i]\n",
    "    # print(ticker_in)\n",
    "    try:\n",
    "        query = f'http://iss.moex.com/iss/engines/stock/markets/shares/securities/{ticker_in}/candles.csv?from={start_date_mx}&till={end_date_mx}&interval={interval}'\n",
    "        df = pd.read_csv(query, sep=';', header=1)\n",
    "\n",
    "        # df.rename(columns={'End': 'Date'}, inplace=True) #переименовка колонки, чтобы было всё в одном формате\n",
    "        df['ticker'] = ticker_in\n",
    "        # df = df.set_index('Date')\n",
    "        df_full = pd.concat([df_full,df])\n",
    "    except:\n",
    "        exception_list.append(ticker_in)\n",
    "\n",
    "\n",
    "\n",
    "print(len(df_full))\n",
    "print(len(exception_list))\n",
    "df_full.to_excel('datasets/10years_data_1d_interval.xlsx',index = False)\n",
    "\n",
    "    "
   ]
  },
  {
   "cell_type": "markdown",
   "metadata": {},
   "source": [
    "Данные за 10 лет с интервалом 1 час\n"
   ]
  },
  {
   "cell_type": "code",
   "execution_count": 7,
   "metadata": {},
   "outputs": [
    {
     "name": "stdout",
     "output_type": "stream",
     "text": [
      "120309\n",
      "0\n"
     ]
    }
   ],
   "source": [
    "interval = 60\n",
    "\n",
    "df_full = pd.DataFrame()\n",
    "exception_list = []\n",
    "\n",
    "for i in range(0,len(all_stocks_ru)):\n",
    "# for i in range(0,10):\n",
    "    ticker_in = all_stocks_ru['Ticker'][i]\n",
    "    # print(ticker_in)\n",
    "    try:\n",
    "        query = f'http://iss.moex.com/iss/engines/stock/markets/shares/securities/{ticker_in}/candles.csv?from={start_date_mx}&till={end_date_mx}&interval={interval}'\n",
    "        df = pd.read_csv(query, sep=';', header=1)\n",
    "\n",
    "        # df.rename(columns={'End': 'Date'}, inplace=True) #переименовка колонки, чтобы было всё в одном формате\n",
    "        df['ticker'] = ticker_in\n",
    "        # df = df.set_index('Date')\n",
    "        df_full = pd.concat([df_full,df])\n",
    "    except:\n",
    "        exception_list.append(ticker_in)\n",
    "\n",
    "\n",
    "\n",
    "print(len(df_full))\n",
    "print(len(exception_list))\n",
    "df_full.to_excel('datasets/10years_data_1h_interval.xlsx',index = False)\n",
    "\n",
    "    "
   ]
  },
  {
   "cell_type": "markdown",
   "metadata": {},
   "source": [
    "Данные за 10 лет с интервалом 10 минут"
   ]
  },
  {
   "cell_type": "code",
   "execution_count": 8,
   "metadata": {},
   "outputs": [
    {
     "name": "stdout",
     "output_type": "stream",
     "text": [
      "120512\n",
      "0\n"
     ]
    }
   ],
   "source": [
    "interval = 10\n",
    "\n",
    "df_full = pd.DataFrame()\n",
    "exception_list = []\n",
    "\n",
    "for i in range(0,len(all_stocks_ru)):\n",
    "# for i in range(0,10):\n",
    "    ticker_in = all_stocks_ru['Ticker'][i]\n",
    "    # print(ticker_in)\n",
    "    try:\n",
    "        query = f'http://iss.moex.com/iss/engines/stock/markets/shares/securities/{ticker_in}/candles.csv?from={start_date_mx}&till={end_date_mx}&interval={interval}'\n",
    "        df = pd.read_csv(query, sep=';', header=1)\n",
    "\n",
    "        # df.rename(columns={'End': 'Date'}, inplace=True) #переименовка колонки, чтобы было всё в одном формате\n",
    "        df['ticker'] = ticker_in\n",
    "        # df = df.set_index('Date')\n",
    "        df_full = pd.concat([df_full,df])\n",
    "    except:\n",
    "        exception_list.append(ticker_in)\n",
    "\n",
    "\n",
    "\n",
    "print(len(df_full))\n",
    "print(len(exception_list))\n",
    "df_full.to_excel('datasets/10years_data_10m_interval.xlsx',index = False)\n",
    "\n",
    "    "
   ]
  },
  {
   "cell_type": "markdown",
   "metadata": {},
   "source": [
    "Данные за 10 лет с интервалом 1 минута"
   ]
  },
  {
   "cell_type": "code",
   "execution_count": 9,
   "metadata": {},
   "outputs": [
    {
     "name": "stdout",
     "output_type": "stream",
     "text": [
      "119012\n",
      "3\n"
     ]
    }
   ],
   "source": [
    "interval = 1\n",
    "\n",
    "df_full = pd.DataFrame()\n",
    "exception_list = []\n",
    "\n",
    "for i in range(0,len(all_stocks_ru)):\n",
    "# for i in range(0,10):\n",
    "    ticker_in = all_stocks_ru['Ticker'][i]\n",
    "    # print(ticker_in)\n",
    "    try:\n",
    "        query = f'http://iss.moex.com/iss/engines/stock/markets/shares/securities/{ticker_in}/candles.csv?from={start_date_mx}&till={end_date_mx}&interval={interval}'\n",
    "        df = pd.read_csv(query, sep=';', header=1)\n",
    "\n",
    "        # df.rename(columns={'End': 'Date'}, inplace=True) #переименовка колонки, чтобы было всё в одном формате\n",
    "        df['ticker'] = ticker_in\n",
    "        # df = df.set_index('Date')\n",
    "        df_full = pd.concat([df_full,df])\n",
    "    except:\n",
    "        exception_list.append(ticker_in)\n",
    "\n",
    "\n",
    "\n",
    "print(len(df_full))\n",
    "print(len(exception_list))\n",
    "df_full.to_excel('datasets/10years_data_1m_interval.xlsx',index = False)"
   ]
  },
  {
   "cell_type": "code",
   "execution_count": 10,
   "metadata": {},
   "outputs": [],
   "source": [
    "#готовим даты\n",
    "end_date = datetime.datetime.now()\n",
    "d = datetime.timedelta(days = 365*30)\n",
    "start_date = end_date - d\n",
    "\n",
    "\n",
    "#спец формат даты для MOEX\n",
    "start_date_mx = start_date.strftime('%Y-%m-%d')\n",
    "end_date_mx = end_date.strftime('%Y-%m-%d')\n"
   ]
  },
  {
   "cell_type": "markdown",
   "metadata": {},
   "source": [
    "Данные за 30 лет с интервалом 1 день\n"
   ]
  },
  {
   "cell_type": "code",
   "execution_count": 15,
   "metadata": {},
   "outputs": [
    {
     "name": "stdout",
     "output_type": "stream",
     "text": [
      "115509\n",
      "0\n"
     ]
    }
   ],
   "source": [
    "interval = 24\n",
    "\n",
    "df_full = pd.DataFrame()\n",
    "exception_list = []\n",
    "\n",
    "for i in range(0,len(all_stocks_ru)):\n",
    "# for i in range(0,10):\n",
    "    ticker_in = all_stocks_ru['Ticker'][i]\n",
    "    # print(ticker_in)\n",
    "    try:\n",
    "        query = f'http://iss.moex.com/iss/engines/stock/markets/shares/securities/{ticker_in}/candles.csv?from={start_date_mx}&till={end_date_mx}&interval={interval}'\n",
    "        df = pd.read_csv(query, sep=';', header=1)\n",
    "\n",
    "        # df.rename(columns={'End': 'Date'}, inplace=True) #переименовка колонки, чтобы было всё в одном формате\n",
    "        df['ticker'] = ticker_in\n",
    "        # df = df.set_index('Date')\n",
    "        df_full = pd.concat([df_full,df])\n",
    "    except:\n",
    "        exception_list.append(ticker_in)\n",
    "\n",
    "\n",
    "\n",
    "print(len(df_full))\n",
    "print(len(exception_list))\n",
    "df_full.to_excel('datasets/30years_data_1d_interval.xlsx',index = False)\n",
    "\n",
    "    "
   ]
  },
  {
   "cell_type": "markdown",
   "metadata": {},
   "source": [
    "Данные за 30 лет с интервалом 1 час\n"
   ]
  },
  {
   "cell_type": "code",
   "execution_count": 12,
   "metadata": {},
   "outputs": [
    {
     "name": "stdout",
     "output_type": "stream",
     "text": [
      "120356\n",
      "0\n"
     ]
    }
   ],
   "source": [
    "interval = 60\n",
    "\n",
    "df_full = pd.DataFrame()\n",
    "exception_list = []\n",
    "\n",
    "for i in range(0,len(all_stocks_ru)):\n",
    "# for i in range(0,10):\n",
    "    ticker_in = all_stocks_ru['Ticker'][i]\n",
    "    # print(ticker_in)\n",
    "    try:\n",
    "        query = f'http://iss.moex.com/iss/engines/stock/markets/shares/securities/{ticker_in}/candles.csv?from={start_date_mx}&till={end_date_mx}&interval={interval}'\n",
    "        df = pd.read_csv(query, sep=';', header=1)\n",
    "\n",
    "        # df.rename(columns={'End': 'Date'}, inplace=True) #переименовка колонки, чтобы было всё в одном формате\n",
    "        df['ticker'] = ticker_in\n",
    "        # df = df.set_index('Date')\n",
    "        df_full = pd.concat([df_full,df])\n",
    "    except:\n",
    "        exception_list.append(ticker_in)\n",
    "\n",
    "\n",
    "\n",
    "print(len(df_full))\n",
    "print(len(exception_list))\n",
    "df_full.to_excel('datasets/30years_data_1h_interval.xlsx',index = False)\n",
    "\n",
    "    "
   ]
  },
  {
   "cell_type": "markdown",
   "metadata": {},
   "source": [
    "Данные за 30 лет с интервалом 10 минут"
   ]
  },
  {
   "cell_type": "code",
   "execution_count": 13,
   "metadata": {},
   "outputs": [
    {
     "name": "stdout",
     "output_type": "stream",
     "text": [
      "120557\n",
      "0\n"
     ]
    }
   ],
   "source": [
    "interval = 10\n",
    "\n",
    "df_full = pd.DataFrame()\n",
    "exception_list = []\n",
    "\n",
    "for i in range(0,len(all_stocks_ru)):\n",
    "# for i in range(0,10):\n",
    "    ticker_in = all_stocks_ru['Ticker'][i]\n",
    "    # print(ticker_in)\n",
    "    try:\n",
    "        query = f'http://iss.moex.com/iss/engines/stock/markets/shares/securities/{ticker_in}/candles.csv?from={start_date_mx}&till={end_date_mx}&interval={interval}'\n",
    "        df = pd.read_csv(query, sep=';', header=1)\n",
    "\n",
    "        # df.rename(columns={'End': 'Date'}, inplace=True) #переименовка колонки, чтобы было всё в одном формате\n",
    "        df['ticker'] = ticker_in\n",
    "        # df = df.set_index('Date')\n",
    "        df_full = pd.concat([df_full,df])\n",
    "    except:\n",
    "        exception_list.append(ticker_in)\n",
    "\n",
    "\n",
    "\n",
    "print(len(df_full))\n",
    "print(len(exception_list))\n",
    "df_full.to_excel('datasets/30years_data_10m_interval.xlsx',index = False)\n",
    "\n",
    "    "
   ]
  },
  {
   "cell_type": "markdown",
   "metadata": {},
   "source": [
    "Данные за 30 лет с интервалом 1 минута"
   ]
  },
  {
   "cell_type": "code",
   "execution_count": 14,
   "metadata": {},
   "outputs": [
    {
     "name": "stdout",
     "output_type": "stream",
     "text": [
      "117058\n",
      "7\n"
     ]
    }
   ],
   "source": [
    "interval = 1\n",
    "\n",
    "df_full = pd.DataFrame()\n",
    "exception_list = []\n",
    "\n",
    "for i in range(0,len(all_stocks_ru)):\n",
    "# for i in range(0,10):\n",
    "    ticker_in = all_stocks_ru['Ticker'][i]\n",
    "    # print(ticker_in)\n",
    "    try:\n",
    "        query = f'http://iss.moex.com/iss/engines/stock/markets/shares/securities/{ticker_in}/candles.csv?from={start_date_mx}&till={end_date_mx}&interval={interval}'\n",
    "        df = pd.read_csv(query, sep=';', header=1)\n",
    "\n",
    "        # df.rename(columns={'End': 'Date'}, inplace=True) #переименовка колонки, чтобы было всё в одном формате\n",
    "        df['ticker'] = ticker_in\n",
    "        # df = df.set_index('Date')\n",
    "        df_full = pd.concat([df_full,df])\n",
    "    except:\n",
    "        exception_list.append(ticker_in)\n",
    "\n",
    "\n",
    "\n",
    "print(len(df_full))\n",
    "print(len(exception_list))\n",
    "df_full.to_excel('datasets/30years_data_1m_interval.xlsx',index = False)"
   ]
  }
 ],
 "metadata": {
  "kernelspec": {
   "display_name": "base",
   "language": "python",
   "name": "python3"
  },
  "language_info": {
   "codemirror_mode": {
    "name": "ipython",
    "version": 3
   },
   "file_extension": ".py",
   "mimetype": "text/x-python",
   "name": "python",
   "nbconvert_exporter": "python",
   "pygments_lexer": "ipython3",
   "version": "3.10.13"
  }
 },
 "nbformat": 4,
 "nbformat_minor": 2
}
