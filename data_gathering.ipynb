{
 "cells": [
  {
   "cell_type": "code",
   "execution_count": null,
   "metadata": {},
   "outputs": [],
   "source": [
    "import datetime, pandas as pd, requests, csv, sys\n",
    "\n",
    "current_path = sys.path[0]\n",
    "\n",
    "today = datetime.datetime.now()\n",
    "df_full = pd.DataFrame()\n",
    "exception_list = []\n",
    "\n",
    "headers = {'User-Agent': 'Mozilla/5.0 (Windows NT 10.0; Win64; x64) AppleWebKit/537.36 (KHTML, like Gecko) Chrome/74.0.3729.169 Safari/537.36'}\n"
   ]
  },
  {
   "cell_type": "markdown",
   "metadata": {},
   "source": [
    "Выгрузка доступного на мосбирже"
   ]
  },
  {
   "cell_type": "code",
   "execution_count": null,
   "metadata": {},
   "outputs": [],
   "source": [
    "def moex_tickerlists (current_path):\n",
    "    CSV_URL = 'https://www.moex.com/ru/listing/securities-list-csv.aspx?type=1'\n",
    "\n",
    "\n",
    "    with requests.Session() as s:\n",
    "        download = s.get(CSV_URL, headers = headers)\n",
    "\n",
    "        decoded_content = download.content.decode('cp1251')\n",
    "\n",
    "        cr = csv.reader(decoded_content.splitlines(), delimiter=',')\n",
    "        my_list = list(cr)\n",
    "\n",
    "\n",
    "    df_moex = pd.DataFrame(my_list)\n",
    "    new_header = df_moex.iloc[0]\n",
    "    df_moex = df_moex[1:]\n",
    "    df_moex.columns = new_header\n",
    "\n",
    "    print(\"Общее количество объектов на Мосбирже: {}\".format(len(df_moex)))\n",
    "    df_moex.to_excel((\"{}/datasets/ticker_lists/moex_full.xlsx\").format(current_path))\n",
    "    df_moex.to_csv((\"{}/datasets/ticker_lists/moex_full.csv\").format(current_path))\n",
    "\n",
    "    df_moex_stocks = df_moex[(df_moex['SUPERTYPE'] == \"Акции\")|(df_moex['SUPERTYPE'] == \"Депозитарные расписки\")]\n",
    "    df_moex_stocks.reset_index(drop=True, inplace=True)\n",
    "\n",
    "    ## moex_stocks_list['CURRENCY'] == '' это заблокированные акции\n",
    "\n",
    "    print(\"Количество акций и депозитарных расписок: {}\".format(len(df_moex_stocks)))\n",
    "    df_moex_stocks.to_excel((\"{}/datasets/ticker_lists/moex_stocks.xlsx\").format(current_path))\n",
    "    df_moex_stocks.to_csv((\"{}/datasets/ticker_lists/moex_stocks.csv\").format(current_path))\n",
    "\n",
    "    ## Запуск только для акций и депозитарных расписок\n",
    "    all_stocks_ru = df_moex_stocks.filter(['TRADE_CODE'], axis = 1)\n",
    "    all_stocks_ru = all_stocks_ru.loc[~all_stocks_ru.duplicated(), :]\n",
    "\n",
    "    ## Запуск для всего\n",
    "    all_stocks_ru = df_moex_stocks.filter(['TRADE_CODE'], axis = 1)\n",
    "    all_stocks_ru = df_moex_stocks.loc[~all_stocks_ru.duplicated(), :]\n",
    "\n",
    "    return all_stocks_ru"
   ]
  },
  {
   "cell_type": "code",
   "execution_count": null,
   "metadata": {},
   "outputs": [],
   "source": [
    "## Функция выгрузки данных через ручку MOEX\n",
    "def moex (ticker_in, years, interval):\n",
    "\n",
    "    df_ticker = pd.DataFrame()\n",
    "\n",
    "    df = pd.DataFrame()\n",
    "    global exception_list\n",
    "    today = datetime.datetime.now()\n",
    "\n",
    "    for i in range(1, years):\n",
    "\n",
    "        if i == 1:\n",
    "            start_date = today\n",
    "        else:\n",
    "            d_s = datetime.timedelta(days = 365*(i-1))\n",
    "            start_date = today - d_s\n",
    "\n",
    "        d_e = datetime.timedelta(days = 365*i)\n",
    "        end_date = today - d_e\n",
    "\n",
    "        start_date_mx = start_date.strftime('%Y-%m-%d')\n",
    "        end_date_mx = end_date.strftime('%Y-%m-%d')\n",
    "\n",
    "        try:\n",
    "            query = f'http://iss.moex.com/iss/engines/stock/markets/shares/securities/{ticker_in}/candles.csv?from={end_date_mx}&till={start_date_mx}&interval={interval}'\n",
    "            df = pd.read_csv(query, sep=';', header=1)\n",
    "\n",
    "            # df.rename(columns={'End': 'Date'}, inplace=True) #переименовка колонки, чтобы было всё в одном формате\n",
    "            df['ticker'] = ticker_in\n",
    "            # df = df.set_index('Date')\n",
    "\n",
    "            if len(df) > 0: df_ticker = pd.concat([df_ticker,df])\n",
    "            \n",
    "        except:\n",
    "            exception_list.append(ticker_in)\n",
    "\n",
    "    return df_ticker"
   ]
  },
  {
   "cell_type": "code",
   "execution_count": null,
   "metadata": {},
   "outputs": [],
   "source": [
    "### Функция для выгрузки данных по конфигу\n",
    "def full_reload (all_stocks_ru, interval, years, filename, current_path):\n",
    "    df_full = pd.DataFrame()\n",
    "\n",
    "    for i in range(0,len(all_stocks_ru)):\n",
    "        ticker_in = all_stocks_ru['TRADE_CODE'][i]\n",
    "        df = moex(ticker_in, years, interval)\n",
    "        if len(df) > 0: df_full = pd.concat([df_full,df])\n",
    "\n",
    "\n",
    "    print(\"Записей для промежутка {} лет с интервалом {} мин.: {}\".format(years,interval,len(df_full)))\n",
    "    if len(df_full) > 0 and len(df_full) < 1048576: df_full.to_excel(('{}/datasets/{}'.format(current_path,filename + '.xlsx')),index = False)\n",
    "    if len(df_full) > 0: df_full.to_csv(('{}/datasets/{}'.format(current_path, filename + '.csv')),index = False)\n"
   ]
  },
  {
   "cell_type": "code",
   "execution_count": null,
   "metadata": {},
   "outputs": [],
   "source": [
    "## для тестирования функции\n",
    "# full_reload(1,10,'1year_data_1m_intervcal',current_path)"
   ]
  },
  {
   "cell_type": "code",
   "execution_count": null,
   "metadata": {},
   "outputs": [],
   "source": [
    "config = [\n",
    "        {'interval': 24,\n",
    "        'years': 10,\n",
    "        'filename': '10years_data_1d_interval'},\n",
    "        {'interval': 60,\n",
    "        'years': 10,\n",
    "        'filename': '10years_data_1h_interval'},\n",
    "        {'interval': 10,\n",
    "        'years': 10,\n",
    "        'filename': '10years_data_10m_interval'},\n",
    "        {'interval': 1,\n",
    "        'years': 10,\n",
    "        'filename': '10years_data_1m_interval'},\n",
    "        {'interval': 24,\n",
    "        'years': 30,\n",
    "        'filename': '30years_data_1d_interval'},\n",
    "        {'interval': 60,\n",
    "        'years': 30,\n",
    "        'filename': '30years_data_1h_interval'},\n",
    "        {'interval': 10,\n",
    "        'years': 30,\n",
    "        'filename': '30years_data_10m_interval'},\n",
    "        {'interval': 1,\n",
    "        'years': 30,\n",
    "        'filename': '30years_data_1m_interval'}\n",
    "        ]"
   ]
  },
  {
   "cell_type": "code",
   "execution_count": null,
   "metadata": {},
   "outputs": [],
   "source": [
    "def main(current_path):\n",
    "    global exception_list\n",
    "\n",
    "    all_stocks_ru = moex_tickerlists (current_path)\n",
    "\n",
    "    for k in range(0, len(config)):\n",
    "        full_reload(all_stocks_ru, config[k]['interval'], config[k]['years'], config[k]['filename'], current_path)\n",
    "\n",
    "    exception_list = list(set(exception_list)) #дедупликация\n",
    "    print(\"Пропущено тикеров при разных интервалах: {}\".format(len(exception_list)))"
   ]
  },
  {
   "cell_type": "code",
   "execution_count": null,
   "metadata": {},
   "outputs": [],
   "source": [
    "if __name__ == \"__main__\":\n",
    "    main(current_path)"
   ]
  }
 ],
 "metadata": {
  "kernelspec": {
   "display_name": "base",
   "language": "python",
   "name": "python3"
  },
  "language_info": {
   "codemirror_mode": {
    "name": "ipython",
    "version": 3
   },
   "file_extension": ".py",
   "mimetype": "text/x-python",
   "name": "python",
   "nbconvert_exporter": "python",
   "pygments_lexer": "ipython3",
   "version": "3.10.13"
  }
 },
 "nbformat": 4,
 "nbformat_minor": 2
}
