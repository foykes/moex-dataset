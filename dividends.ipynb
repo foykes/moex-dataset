{
 "cells": [
  {
   "cell_type": "code",
   "execution_count": 1,
   "metadata": {},
   "outputs": [
    {
     "name": "stderr",
     "output_type": "stream",
     "text": [
      "C:\\Users\\foyke\\AppData\\Local\\Temp\\ipykernel_21484\\1023240591.py:1: DeprecationWarning: \n",
      "Pyarrow will become a required dependency of pandas in the next major release of pandas (pandas 3.0),\n",
      "(to allow more performant data types, such as the Arrow string type, and better interoperability with other libraries)\n",
      "but was not found to be installed on your system.\n",
      "If this would cause problems for you,\n",
      "please provide us feedback at https://github.com/pandas-dev/pandas/issues/54466\n",
      "        \n",
      "  import pandas as pd, os\n"
     ]
    }
   ],
   "source": [
    "import pandas as pd, os \n",
    "import urllib.request, json\n",
    "\n",
    "current_path = os.getcwd()"
   ]
  },
  {
   "cell_type": "code",
   "execution_count": 2,
   "metadata": {},
   "outputs": [],
   "source": [
    "### Функция выгрузки дивидендов по ISIN\n",
    "\n",
    "def div_loader(isin, ticker):\n",
    "    global divs_all\n",
    "\n",
    "    ## Выгрузка по ISIN всех возможных secid, к которым привязаны дивиденды\n",
    "    # isin = \"RU0009029540\"\n",
    "    # ticker = \"SBER\"\n",
    "    query  = \"https://iss.moex.com/iss/securities.json?q={}&iss.meta=off\".format(isin)\n",
    "    with urllib.request.urlopen(query) as url:\n",
    "        data = json.load(url)\n",
    "\n",
    "\n",
    "    secid_list = []\n",
    "    for i in range(0, len(data['securities']['data'])):\n",
    "        secid = data['securities']['data'][i][1]\n",
    "        secid_list.append(secid)\n",
    "\n",
    "\n",
    "    ## Выгрузка дивидендов по каждому secid\n",
    "    isin_div = []\n",
    "\n",
    "    for i in range(0, len(secid_list)):\n",
    "        query = \"https://iss.moex.com/iss/securities/{}/dividends.json\".format(secid_list[i])\n",
    "        with urllib.request.urlopen(query) as url:\n",
    "            data = json.load(url)\n",
    "\n",
    "        for j in range (0,len(data['dividends']['data'])):\n",
    "            tmp = []\n",
    "            date = data['dividends']['data'][j][2]\n",
    "            cash = data['dividends']['data'][j][3]\n",
    "            currency = data['dividends']['data'][j][4]\n",
    "\n",
    "            tmp.append(isin)\n",
    "            tmp.append(ticker)\n",
    "            tmp.append(date)\n",
    "            tmp.append(cash)\n",
    "            tmp.append(currency)\n",
    "\n",
    "            divs_all.append(tmp)"
   ]
  },
  {
   "cell_type": "code",
   "execution_count": 3,
   "metadata": {},
   "outputs": [],
   "source": [
    "## Подготовка списка для чего будут выгружаться дивиденды\n",
    "path = \"datasets/ticker_lists/moex_full.xlsx\"\n",
    "df = pd.read_excel(path)\n",
    "df_isin = df[['TRADE_CODE','ISIN']]\n",
    "df_isin = df_isin.dropna(how='all')\n",
    "df_isin.drop_duplicates(keep='first', inplace=True)\n",
    "df_isin.reset_index(drop=True, inplace=True)"
   ]
  },
  {
   "cell_type": "code",
   "execution_count": 4,
   "metadata": {},
   "outputs": [
    {
     "name": "stdout",
     "output_type": "stream",
     "text": [
      "Выгружено записей о дивидендах: {} 642\n"
     ]
    }
   ],
   "source": [
    "divs_all = []\n",
    "\n",
    "for i in range(0, len(df_isin)):\n",
    "    isin = df_isin['ISIN'][i]\n",
    "    ticker = df_isin['TRADE_CODE'][i]\n",
    "    div_loader(isin, ticker)\n",
    "    \n",
    "print('Выгружено записей о дивидендах: {}'.format(len(divs_all)))"
   ]
  },
  {
   "cell_type": "code",
   "execution_count": 10,
   "metadata": {},
   "outputs": [],
   "source": [
    "df_divs_all = pd.DataFrame(divs_all, columns=['ISIN','TRADE_CODE','dt','value','currency'])"
   ]
  },
  {
   "cell_type": "code",
   "execution_count": 11,
   "metadata": {},
   "outputs": [],
   "source": [
    "path = current_path + \"/datasets/dividends/\" + \"all\"\n",
    "if len(df_divs_all) > 0: df_divs_all.to_excel(path + \".xlsx\",index = False)\n",
    "if len(df_divs_all) > 0: df_divs_all.to_csv(path + \".csv\",index = False)"
   ]
  }
 ],
 "metadata": {
  "kernelspec": {
   "display_name": "base",
   "language": "python",
   "name": "python3"
  },
  "language_info": {
   "codemirror_mode": {
    "name": "ipython",
    "version": 3
   },
   "file_extension": ".py",
   "mimetype": "text/x-python",
   "name": "python",
   "nbconvert_exporter": "python",
   "pygments_lexer": "ipython3",
   "version": "3.10.13"
  }
 },
 "nbformat": 4,
 "nbformat_minor": 2
}
