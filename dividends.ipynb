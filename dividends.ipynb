{
 "cells": [
  {
   "cell_type": "code",
   "execution_count": 1,
   "metadata": {},
   "outputs": [
    {
     "name": "stderr",
     "output_type": "stream",
     "text": [
      "C:\\Users\\foyke\\AppData\\Local\\Temp\\ipykernel_40412\\162770284.py:1: DeprecationWarning: \n",
      "Pyarrow will become a required dependency of pandas in the next major release of pandas (pandas 3.0),\n",
      "(to allow more performant data types, such as the Arrow string type, and better interoperability with other libraries)\n",
      "but was not found to be installed on your system.\n",
      "If this would cause problems for you,\n",
      "please provide us feedback at https://github.com/pandas-dev/pandas/issues/54466\n",
      "        \n",
      "  import datetime, pandas as pd, requests, csv, os\n"
     ]
    }
   ],
   "source": [
    "import datetime, pandas as pd, requests, csv, os\n",
    "import urllib.request, json\n",
    "from os import listdir\n",
    "from os.path import isfile, join\n",
    "import os\n",
    "current_path = os.getcwd()"
   ]
  },
  {
   "cell_type": "code",
   "execution_count": 13,
   "metadata": {},
   "outputs": [],
   "source": [
    "divs_all = []"
   ]
  },
  {
   "cell_type": "code",
   "execution_count": 14,
   "metadata": {},
   "outputs": [],
   "source": [
    "def div_loader(isin):\n",
    "    global divs_all\n",
    "\n",
    "    ## Выгрузка по ISIN всех возможных secid, к которым привязаны дивиденды\n",
    "    # isin = \"RU0009029540\"\n",
    "    query  = \"https://iss.moex.com/iss/securities.json?q={}&iss.meta=off\".format(isin)\n",
    "    with urllib.request.urlopen(query) as url:\n",
    "        data = json.load(url)\n",
    "\n",
    "    # print(data)\n",
    "\n",
    "    secid_list = []\n",
    "    for i in range(0, len(data['securities']['data'])):\n",
    "        secid = data['securities']['data'][i][1]\n",
    "        secid_list.append(secid)\n",
    "\n",
    "    # print(secid_list)\n",
    "\n",
    "    ## Выгрузка дивидендов по каждому secid\n",
    "    isin_div = []\n",
    "\n",
    "    for i in range(0, len(secid_list)):\n",
    "        query = \"https://iss.moex.com/iss/securities/{}/dividends.json\".format(secid_list[i])\n",
    "        with urllib.request.urlopen(query) as url:\n",
    "            data = json.load(url)\n",
    "        # print(data)\n",
    "\n",
    "        for j in range (0,len(data['dividends']['data'])):\n",
    "            tmp = []\n",
    "            date = data['dividends']['data'][j][2]\n",
    "            cash = data['dividends']['data'][j][3]\n",
    "            currency = data['dividends']['data'][j][4]\n",
    "            # print(\"{}, {}, {}\".format(date, cash, currency))\n",
    "            tmp.append(isin)\n",
    "            tmp.append(date)\n",
    "            tmp.append(cash)\n",
    "            tmp.append(currency)\n",
    "            # isin_div.append(tmp)\n",
    "            divs_all.append(tmp)\n",
    "\n",
    "    return isin_div"
   ]
  },
  {
   "cell_type": "code",
   "execution_count": 3,
   "metadata": {},
   "outputs": [],
   "source": [
    "path = \"datasets/ticker_lists/moex_full.xlsx\"\n",
    "df = pd.read_excel(path)"
   ]
  },
  {
   "cell_type": "code",
   "execution_count": 4,
   "metadata": {},
   "outputs": [],
   "source": [
    "df_isin = df['ISIN']\n",
    "df_isin = df_isin.dropna(how='all')\n",
    "df_isin.drop_duplicates(keep='first', inplace=True)\n",
    "df_isin.reset_index(drop=True, inplace=True)"
   ]
  },
  {
   "cell_type": "code",
   "execution_count": 16,
   "metadata": {},
   "outputs": [
    {
     "name": "stdout",
     "output_type": "stream",
     "text": [
      "642\n",
      "0\n"
     ]
    }
   ],
   "source": [
    "divs_all = []\n",
    "divs_all_1 = []\n",
    "for i in range(0, len(df_isin)):\n",
    "    isin = df_isin[i]\n",
    "    isin_div = div_loader(isin)\n",
    "    # if len(isin_div) > 0: divs_all_1.append(isin_div)\n",
    "    \n",
    "print(len(divs_all))\n",
    "# print(len(divs_all_1))"
   ]
  },
  {
   "cell_type": "code",
   "execution_count": 20,
   "metadata": {},
   "outputs": [
    {
     "data": {
      "text/html": [
       "<div>\n",
       "<style scoped>\n",
       "    .dataframe tbody tr th:only-of-type {\n",
       "        vertical-align: middle;\n",
       "    }\n",
       "\n",
       "    .dataframe tbody tr th {\n",
       "        vertical-align: top;\n",
       "    }\n",
       "\n",
       "    .dataframe thead th {\n",
       "        text-align: right;\n",
       "    }\n",
       "</style>\n",
       "<table border=\"1\" class=\"dataframe\">\n",
       "  <thead>\n",
       "    <tr style=\"text-align: right;\">\n",
       "      <th></th>\n",
       "      <th>ISIN</th>\n",
       "      <th>dt</th>\n",
       "      <th>value</th>\n",
       "      <th>currency</th>\n",
       "    </tr>\n",
       "  </thead>\n",
       "  <tbody>\n",
       "    <tr>\n",
       "      <th>0</th>\n",
       "      <td>RU000A0JUG31</td>\n",
       "      <td>2019-06-07</td>\n",
       "      <td>0.11</td>\n",
       "      <td>RUB</td>\n",
       "    </tr>\n",
       "    <tr>\n",
       "      <th>1</th>\n",
       "      <td>US29760G1031</td>\n",
       "      <td>2017-11-17</td>\n",
       "      <td>0.04</td>\n",
       "      <td>USD</td>\n",
       "    </tr>\n",
       "    <tr>\n",
       "      <th>2</th>\n",
       "      <td>US6708662019</td>\n",
       "      <td>2018-01-25</td>\n",
       "      <td>0.12</td>\n",
       "      <td>USD</td>\n",
       "    </tr>\n",
       "    <tr>\n",
       "      <th>3</th>\n",
       "      <td>US7496552057</td>\n",
       "      <td>2016-05-27</td>\n",
       "      <td>0.58</td>\n",
       "      <td>USD</td>\n",
       "    </tr>\n",
       "    <tr>\n",
       "      <th>4</th>\n",
       "      <td>US7496552057</td>\n",
       "      <td>2016-09-23</td>\n",
       "      <td>0.23</td>\n",
       "      <td>USD</td>\n",
       "    </tr>\n",
       "    <tr>\n",
       "      <th>...</th>\n",
       "      <td>...</td>\n",
       "      <td>...</td>\n",
       "      <td>...</td>\n",
       "      <td>...</td>\n",
       "    </tr>\n",
       "    <tr>\n",
       "      <th>95</th>\n",
       "      <td>RU000A0JPGA0</td>\n",
       "      <td>2014-07-04</td>\n",
       "      <td>20.00</td>\n",
       "      <td>RUB</td>\n",
       "    </tr>\n",
       "    <tr>\n",
       "      <th>96</th>\n",
       "      <td>RU000A0JPGA0</td>\n",
       "      <td>2014-12-16</td>\n",
       "      <td>25.00</td>\n",
       "      <td>RUB</td>\n",
       "    </tr>\n",
       "    <tr>\n",
       "      <th>97</th>\n",
       "      <td>RU000A0JPGA0</td>\n",
       "      <td>2015-06-29</td>\n",
       "      <td>27.00</td>\n",
       "      <td>RUB</td>\n",
       "    </tr>\n",
       "    <tr>\n",
       "      <th>98</th>\n",
       "      <td>RU000A0JPGA0</td>\n",
       "      <td>2016-07-01</td>\n",
       "      <td>20.00</td>\n",
       "      <td>RUB</td>\n",
       "    </tr>\n",
       "    <tr>\n",
       "      <th>99</th>\n",
       "      <td>RU000A0JPGA0</td>\n",
       "      <td>2019-12-16</td>\n",
       "      <td>33.37</td>\n",
       "      <td>RUB</td>\n",
       "    </tr>\n",
       "  </tbody>\n",
       "</table>\n",
       "<p>100 rows × 4 columns</p>\n",
       "</div>"
      ],
      "text/plain": [
       "            ISIN          dt  value currency\n",
       "0   RU000A0JUG31  2019-06-07   0.11      RUB\n",
       "1   US29760G1031  2017-11-17   0.04      USD\n",
       "2   US6708662019  2018-01-25   0.12      USD\n",
       "3   US7496552057  2016-05-27   0.58      USD\n",
       "4   US7496552057  2016-09-23   0.23      USD\n",
       "..           ...         ...    ...      ...\n",
       "95  RU000A0JPGA0  2014-07-04  20.00      RUB\n",
       "96  RU000A0JPGA0  2014-12-16  25.00      RUB\n",
       "97  RU000A0JPGA0  2015-06-29  27.00      RUB\n",
       "98  RU000A0JPGA0  2016-07-01  20.00      RUB\n",
       "99  RU000A0JPGA0  2019-12-16  33.37      RUB\n",
       "\n",
       "[100 rows x 4 columns]"
      ]
     },
     "execution_count": 20,
     "metadata": {},
     "output_type": "execute_result"
    }
   ],
   "source": [
    "df_divs_all = pd.DataFrame(divs_all, columns=['ISIN','dt','value','currency'])\n",
    "# df_divs_all.head(100)"
   ]
  },
  {
   "cell_type": "code",
   "execution_count": 23,
   "metadata": {},
   "outputs": [],
   "source": [
    "path = current_path + \"/datasets/dividends/\" + \"all\"\n",
    "if len(df_divs_all) > 0: df_divs_all.to_excel(path + \".xlsx\",index = False)\n",
    "if len(df_divs_all) > 0: df_divs_all.to_csv(path + \".csv\",index = False)"
   ]
  }
 ],
 "metadata": {
  "kernelspec": {
   "display_name": "base",
   "language": "python",
   "name": "python3"
  },
  "language_info": {
   "codemirror_mode": {
    "name": "ipython",
    "version": 3
   },
   "file_extension": ".py",
   "mimetype": "text/x-python",
   "name": "python",
   "nbconvert_exporter": "python",
   "pygments_lexer": "ipython3",
   "version": "3.10.13"
  }
 },
 "nbformat": 4,
 "nbformat_minor": 2
}
